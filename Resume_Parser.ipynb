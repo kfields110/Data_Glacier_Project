{
  "nbformat": 4,
  "nbformat_minor": 0,
  "metadata": {
    "colab": {
      "provenance": [],
      "authorship_tag": "ABX9TyO8hjv6CyOw7iVT0hl3GOT7",
      "include_colab_link": true
    },
    "kernelspec": {
      "name": "python3",
      "display_name": "Python 3"
    },
    "language_info": {
      "name": "python"
    },
    "accelerator": "GPU"
  },
  "cells": [
    {
      "cell_type": "markdown",
      "metadata": {
        "id": "view-in-github",
        "colab_type": "text"
      },
      "source": [
        "<a href=\"https://colab.research.google.com/github/kfields110/Data_Glacier_Project/blob/Model_Setup/Resume_Parser.ipynb\" target=\"_parent\"><img src=\"https://colab.research.google.com/assets/colab-badge.svg\" alt=\"Open In Colab\"/></a>"
      ]
    },
    {
      "cell_type": "code",
      "execution_count": null,
      "metadata": {
        "id": "u6U7l5od2wZ1"
      },
      "outputs": [],
      "source": [
        "!pip install spacy_transformers\n",
        "!pip install spacy"
      ]
    },
    {
      "cell_type": "code",
      "source": [
        "import spacy \n",
        "from spacy.tokens import DocBin\n",
        "from tqdm import tqdm\n",
        "import json"
      ],
      "metadata": {
        "id": "_ix4mgMCMIbV"
      },
      "execution_count": null,
      "outputs": []
    },
    {
      "cell_type": "code",
      "source": [
        "spacy.__version__"
      ],
      "metadata": {
        "colab": {
          "base_uri": "https://localhost:8080/",
          "height": 35
        },
        "id": "t2mi2FyhMWLb",
        "outputId": "65fddd35-32a2-4a17-8f1f-b1cadc45822a"
      },
      "execution_count": null,
      "outputs": [
        {
          "output_type": "execute_result",
          "data": {
            "text/plain": [
              "'3.4.1'"
            ],
            "application/vnd.google.colaboratory.intrinsic+json": {
              "type": "string"
            }
          },
          "metadata": {},
          "execution_count": 3
        }
      ]
    },
    {
      "cell_type": "code",
      "source": [
        "resume_data = json.load(open('/content/Resume.json', 'r'))"
      ],
      "metadata": {
        "id": "twAQQbPsMYlP"
      },
      "execution_count": 5,
      "outputs": []
    },
    {
      "cell_type": "code",
      "source": [
        "len(resume_data['foo'])"
      ],
      "metadata": {
        "colab": {
          "base_uri": "https://localhost:8080/"
        },
        "id": "Da3mRwHfMbR6",
        "outputId": "69de5f9f-6012-453b-9f00-da71528ace7c"
      },
      "execution_count": 6,
      "outputs": [
        {
          "output_type": "execute_result",
          "data": {
            "text/plain": [
              "200"
            ]
          },
          "metadata": {},
          "execution_count": 6
        }
      ]
    },
    {
      "cell_type": "code",
      "source": [
        "resume_data['foo'][0]"
      ],
      "metadata": {
        "colab": {
          "base_uri": "https://localhost:8080/"
        },
        "id": "DIgJkO2-wKOR",
        "outputId": "3ab13267-5ca7-4873-f1ff-1c65b1895bb4"
      },
      "execution_count": 7,
      "outputs": [
        {
          "output_type": "execute_result",
          "data": {
            "text/plain": [
              "{'content': 'Govardhana K\\nSenior Software Engineer\\n\\nBengaluru, Karnataka, Karnataka - Email me on Indeed: indeed.com/r/Govardhana-K/\\nb2de315d95905b68\\n\\nTotal IT experience 5 Years 6 Months\\nCloud Lending Solutions INC 4 Month • Salesforce Developer\\nOracle 5 Years 2 Month • Core Java Developer\\nLanguages Core Java, Go Lang\\nOracle PL-SQL programming,\\nSales Force Developer with APEX.\\n\\nDesignations & Promotions\\n\\nWilling to relocate: Anywhere\\n\\nWORK EXPERIENCE\\n\\nSenior Software Engineer\\n\\nCloud Lending Solutions -  Bangalore, Karnataka -\\n\\nJanuary 2018 to Present\\n\\nPresent\\n\\nSenior Consultant\\n\\nOracle -  Bangalore, Karnataka -\\n\\nNovember 2016 to December 2017\\n\\nStaff Consultant\\n\\nOracle -  Bangalore, Karnataka -\\n\\nJanuary 2014 to October 2016\\n\\nAssociate Consultant\\n\\nOracle -  Bangalore, Karnataka -\\n\\nNovember 2012 to December 2013\\n\\nEDUCATION\\n\\nB.E in Computer Science Engineering\\n\\nAdithya Institute of Technology -  Tamil Nadu\\n\\nSeptember 2008 to June 2012\\n\\nhttps://www.indeed.com/r/Govardhana-K/b2de315d95905b68?isid=rex-download&ikw=download-top&co=IN\\nhttps://www.indeed.com/r/Govardhana-K/b2de315d95905b68?isid=rex-download&ikw=download-top&co=IN\\n\\n\\nSKILLS\\n\\nAPEX. (Less than 1 year), Data Structures (3 years), FLEXCUBE (5 years), Oracle (5 years),\\nAlgorithms (3 years)\\n\\nLINKS\\n\\nhttps://www.linkedin.com/in/govardhana-k-61024944/\\n\\nADDITIONAL INFORMATION\\n\\nTechnical Proficiency:\\n\\nLanguages: Core Java, Go Lang, Data Structures & Algorithms, Oracle\\nPL-SQL programming, Sales Force with APEX.\\nTools: RADTool, Jdeveloper, NetBeans, Eclipse, SQL developer,\\nPL/SQL Developer, WinSCP, Putty\\nWeb Technologies: JavaScript, XML, HTML, Webservice\\n\\nOperating Systems: Linux, Windows\\nVersion control system SVN & Git-Hub\\nDatabases: Oracle\\nMiddleware: Web logic, OC4J\\nProduct FLEXCUBE: Oracle FLEXCUBE Versions 10.x, 11.x and 12.x\\n\\nhttps://www.linkedin.com/in/govardhana-k-61024944/',\n",
              " 'annotation': [{'label': ['Companies worked at'],\n",
              "   'points': [{'start': 1749, 'end': 1754, 'text': 'Oracle'}]},\n",
              "  {'label': ['Companies worked at'],\n",
              "   'points': [{'start': 1696, 'end': 1701, 'text': 'Oracle'}]},\n",
              "  {'label': ['Companies worked at'],\n",
              "   'points': [{'start': 1417, 'end': 1422, 'text': 'Oracle'}]},\n",
              "  {'label': ['Skills'],\n",
              "   'points': [{'start': 1356,\n",
              "     'end': 1792,\n",
              "     'text': 'Languages: Core Java, Go Lang, Data Structures & Algorithms, Oracle\\nPL-SQL programming, Sales Force with APEX.\\nTools: RADTool, Jdeveloper, NetBeans, Eclipse, SQL developer,\\nPL/SQL Developer, WinSCP, Putty\\nWeb Technologies: JavaScript, XML, HTML, Webservice\\n\\nOperating Systems: Linux, Windows\\nVersion control system SVN & Git-Hub\\nDatabases: Oracle\\nMiddleware: Web logic, OC4J\\nProduct FLEXCUBE: Oracle FLEXCUBE Versions 10.x, 11.x and 12.x'}]},\n",
              "  {'label': ['Companies worked at'],\n",
              "   'points': [{'start': 1209, 'end': 1214, 'text': 'Oracle'}]},\n",
              "  {'label': ['Skills'],\n",
              "   'points': [{'start': 1136,\n",
              "     'end': 1247,\n",
              "     'text': 'APEX. (Less than 1 year), Data Structures (3 years), FLEXCUBE (5 years), Oracle (5 years),\\nAlgorithms (3 years)\\n'}]},\n",
              "  {'label': ['Graduation Year'],\n",
              "   'points': [{'start': 928, 'end': 931, 'text': '2012'}]},\n",
              "  {'label': ['College Name'],\n",
              "   'points': [{'start': 858,\n",
              "     'end': 888,\n",
              "     'text': 'Adithya Institute of Technology'}]},\n",
              "  {'label': ['Degree'],\n",
              "   'points': [{'start': 821,\n",
              "     'end': 855,\n",
              "     'text': 'B.E in Computer Science Engineering'}]},\n",
              "  {'label': ['Graduation Year'],\n",
              "   'points': [{'start': 787, 'end': 790, 'text': '2012'}]},\n",
              "  {'label': ['Companies worked at'],\n",
              "   'points': [{'start': 744, 'end': 749, 'text': 'Oracle'}]},\n",
              "  {'label': ['Designation'],\n",
              "   'points': [{'start': 722, 'end': 741, 'text': 'Associate Consultant'}]},\n",
              "  {'label': ['Companies worked at'],\n",
              "   'points': [{'start': 658, 'end': 663, 'text': 'Oracle'}]},\n",
              "  {'label': ['Designation'],\n",
              "   'points': [{'start': 640, 'end': 655, 'text': 'Staff Consultant'}]},\n",
              "  {'label': ['Companies worked at'],\n",
              "   'points': [{'start': 574, 'end': 579, 'text': 'Oracle'}]},\n",
              "  {'label': ['Designation'],\n",
              "   'points': [{'start': 555, 'end': 572, 'text': 'Senior Consultant\\n'}]},\n",
              "  {'label': ['Companies worked at'],\n",
              "   'points': [{'start': 470, 'end': 492, 'text': 'Cloud Lending Solutions'}]},\n",
              "  {'label': ['Designation'],\n",
              "   'points': [{'start': 444,\n",
              "     'end': 468,\n",
              "     'text': 'Senior Software Engineer\\n'}]},\n",
              "  {'label': ['Companies worked at'],\n",
              "   'points': [{'start': 308, 'end': 313, 'text': 'Oracle'}]},\n",
              "  {'label': ['Companies worked at'],\n",
              "   'points': [{'start': 234, 'end': 239, 'text': 'Oracle'}]},\n",
              "  {'label': ['Companies worked at'],\n",
              "   'points': [{'start': 175, 'end': 197, 'text': 'Cloud Lending Solutions'}]},\n",
              "  {'label': ['Email Address'],\n",
              "   'points': [{'start': 93,\n",
              "     'end': 136,\n",
              "     'text': 'indeed.com/r/Govardhana-K/\\nb2de315d95905b68\\n'}]},\n",
              "  {'label': ['Location'],\n",
              "   'points': [{'start': 39, 'end': 47, 'text': 'Bengaluru'}]},\n",
              "  {'label': ['Designation'],\n",
              "   'points': [{'start': 13, 'end': 37, 'text': 'Senior Software Engineer\\n'}]},\n",
              "  {'label': ['Name'],\n",
              "   'points': [{'start': 0, 'end': 11, 'text': 'Govardhana K'}]}]}"
            ]
          },
          "metadata": {},
          "execution_count": 7
        }
      ]
    },
    {
      "cell_type": "code",
      "source": [
        "!python -m spacy init fill-config /content/Resume_Parser/data/training/base_config.cfg /content/Resume_Parser/data/training/config.cfg\n"
      ],
      "metadata": {
        "colab": {
          "base_uri": "https://localhost:8080/"
        },
        "id": "G1lkvDiRQ-1v",
        "outputId": "7c5e73a5-cabc-41ac-aaec-ca7422373e80"
      },
      "execution_count": 8,
      "outputs": [
        {
          "output_type": "stream",
          "name": "stdout",
          "text": [
            "Traceback (most recent call last):\n",
            "  File \"/usr/lib/python3.7/runpy.py\", line 193, in _run_module_as_main\n",
            "    \"__main__\", mod_spec)\n",
            "  File \"/usr/lib/python3.7/runpy.py\", line 85, in _run_code\n",
            "    exec(code, run_globals)\n",
            "  File \"/usr/local/lib/python3.7/dist-packages/spacy/__main__.py\", line 4, in <module>\n",
            "    setup_cli()\n",
            "  File \"/usr/local/lib/python3.7/dist-packages/spacy/cli/_util.py\", line 71, in setup_cli\n",
            "    command(prog_name=COMMAND)\n",
            "  File \"/usr/local/lib/python3.7/dist-packages/click/core.py\", line 829, in __call__\n",
            "    return self.main(*args, **kwargs)\n",
            "  File \"/usr/local/lib/python3.7/dist-packages/click/core.py\", line 782, in main\n",
            "    rv = self.invoke(ctx)\n",
            "  File \"/usr/local/lib/python3.7/dist-packages/click/core.py\", line 1259, in invoke\n",
            "    return _process_result(sub_ctx.command.invoke(sub_ctx))\n",
            "  File \"/usr/local/lib/python3.7/dist-packages/click/core.py\", line 1259, in invoke\n",
            "    return _process_result(sub_ctx.command.invoke(sub_ctx))\n",
            "  File \"/usr/local/lib/python3.7/dist-packages/click/core.py\", line 1066, in invoke\n",
            "    return ctx.invoke(self.callback, **ctx.params)\n",
            "  File \"/usr/local/lib/python3.7/dist-packages/click/core.py\", line 610, in invoke\n",
            "    return callback(*args, **kwargs)\n",
            "  File \"/usr/local/lib/python3.7/dist-packages/typer/main.py\", line 532, in wrapper\n",
            "    return callback(**use_params)  # type: ignore\n",
            "  File \"/usr/local/lib/python3.7/dist-packages/spacy/cli/init_config.py\", line 101, in init_fill_config_cli\n",
            "    fill_config(output_file, base_path, pretraining=pretraining, diff=diff)\n",
            "  File \"/usr/local/lib/python3.7/dist-packages/spacy/cli/init_config.py\", line 117, in fill_config\n",
            "    nlp = util.load_model_from_config(config, auto_fill=True, validate=False)\n",
            "  File \"/usr/local/lib/python3.7/dist-packages/spacy/util.py\", line 544, in load_model_from_config\n",
            "    raise ValueError(Errors.E985.format(config=config))\n",
            "ValueError: [E985] Can't load model from config file: no [nlp] section found.\n",
            "\n",
            "{}\n"
          ]
        }
      ]
    },
    {
      "cell_type": "code",
      "source": [
        "def get_spacy_doc(file,data):\n",
        "  nlp = spacy.blank('en')\n",
        "  db = DocBin()\n",
        "\n",
        "  for text, annot in tqdm(data):\n",
        "    doc = nlp.make_doc(text)\n",
        "    annot = annot['entities']\n",
        "\n",
        "    ents = []\n",
        "    entity_indices = []\n",
        "\n",
        "    for start,end, label in annot:\n",
        "      skip_entity = False\n",
        "      for idx in range(start,end):\n",
        "        if idx in entity_indices:\n",
        "          skip_entity = True\n",
        "          break\n",
        "      if skip_entity==True:\n",
        "        continue\n",
        "      \n",
        "      entity_indices = entity_indices + list(range(start,end))\n",
        "\n",
        "      try:\n",
        "        span = doc.char_span(start,end, label=label, alignment_mode='contract')\n",
        "      except:\n",
        "        continue\n",
        "      \n",
        "      if span is None:\n",
        "        err_data = str([start, end]) + \"    \" + str(text) + \"\\n\"\n",
        "        file.write(err_data)\n",
        "      else:\n",
        "        ents.append(span)\n",
        "\n",
        "    try: \n",
        "      doc.ents = ents\n",
        "      db.add(doc)\n",
        "    except:\n",
        "      pass\n",
        "  return db"
      ],
      "metadata": {
        "id": "Bxm4HsYrURR4"
      },
      "execution_count": null,
      "outputs": []
    }
  ]
}